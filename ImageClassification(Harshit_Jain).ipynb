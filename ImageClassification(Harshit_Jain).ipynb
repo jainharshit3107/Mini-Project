{
  "nbformat": 4,
  "nbformat_minor": 0,
  "metadata": {
    "colab": {
      "name": "ImageClassification(Harshit Jain).ipynb",
      "provenance": [],
      "collapsed_sections": [],
      "authorship_tag": "ABX9TyOg2p6B6FBKmuhMNEpKFqG0",
      "include_colab_link": true
    },
    "kernelspec": {
      "name": "python3",
      "display_name": "Python 3"
    },
    "language_info": {
      "name": "python"
    }
  },
  "cells": [
    {
      "cell_type": "markdown",
      "metadata": {
        "id": "view-in-github",
        "colab_type": "text"
      },
      "source": [
        "<a href=\"https://colab.research.google.com/github/jainharshit3107/Mini-Project/blob/main/ImageClassification(Harshit_Jain).ipynb\" target=\"_parent\"><img src=\"https://colab.research.google.com/assets/colab-badge.svg\" alt=\"Open In Colab\"/></a>"
      ]
    },
    {
      "cell_type": "markdown",
      "metadata": {
        "id": "PaDpAD5eqjUV"
      },
      "source": [
        "## Steps Involved in Project\n",
        "<ol>\n",
        "  <li>Gathering Data</li>\n",
        "    <ul>\n",
        "      <li>Using Bing-Image-Downloader</li>\n",
        "    </ul>\n",
        "  <li>Images Consist </li>\n",
        "    <ol>\n",
        "       <li>boxing gloves</li>\n",
        "       <li>single Shuttlecock images</li>\n",
        "       <li>Baseball bat</li>\n",
        "    </ol>\n",
        "  <li>Preprocessing</li>\n",
        "    <ul>\n",
        "       <li>Resize</li>\n",
        "       <li>Flattening</li>\n",
        "       <li>Normalization</li>\n",
        "    </ul>\n",
        "  <li>Hyperparameter Tunning using GridSearchCV</li>\n",
        "    <ul>\n",
        "      <li>Algorithms Used</li>\n",
        "    </ul>\n",
        "        <ol> \n",
        "           <li>Support Vector Machine</li>\n",
        "           <li>RandomForest Classifier</li>\n",
        "           <li>LogisticRegression</li>\n",
        "        </ol>\n",
        "  <li>Accuracy and Confusion Matrix</li>\n",
        "    <ul>\n",
        "       <li>Using Seaborn</li>\n",
        "    </ul>\n",
        "  <li>Prediction for new Image</li>\n",
        "</ol>\n",
        "\n"
      ]
    },
    {
      "cell_type": "code",
      "metadata": {
        "colab": {
          "base_uri": "https://localhost:8080/"
        },
        "id": "NcgrrOFBu5mR",
        "outputId": "3ed5410d-5741-41f2-9c18-4a982dedbfb2"
      },
      "source": [
        "!pip install bing-image-downloader"
      ],
      "execution_count": null,
      "outputs": [
        {
          "output_type": "stream",
          "text": [
            "Collecting bing-image-downloader\n",
            "  Downloading https://files.pythonhosted.org/packages/c2/04/1872a689a30036aa0b81ac9fca124a7413cad71fdab714f727cf1a34b671/bing_image_downloader-1.1.1-py3-none-any.whl\n",
            "Installing collected packages: bing-image-downloader\n",
            "Successfully installed bing-image-downloader-1.1.1\n"
          ],
          "name": "stdout"
        }
      ]
    },
    {
      "cell_type": "markdown",
      "metadata": {
        "id": "h9GBufUWvupz"
      },
      "source": [
        "## Gathering Data"
      ]
    },
    {
      "cell_type": "code",
      "metadata": {
        "colab": {
          "base_uri": "https://localhost:8080/"
        },
        "id": "iMnhmV4roeHc",
        "outputId": "59a82b0c-0422-4cb3-fc31-f2855a2917dc"
      },
      "source": [
        "!pip install ipython-autotime\n",
        "%load_ext autotime"
      ],
      "execution_count": null,
      "outputs": [
        {
          "output_type": "stream",
          "text": [
            "Collecting ipython-autotime\n",
            "  Downloading https://files.pythonhosted.org/packages/b4/c9/b413a24f759641bc27ef98c144b590023c8038dfb8a3f09e713e9dff12c1/ipython_autotime-0.3.1-py2.py3-none-any.whl\n",
            "Requirement already satisfied: ipython in /usr/local/lib/python3.7/dist-packages (from ipython-autotime) (5.5.0)\n",
            "Requirement already satisfied: traitlets>=4.2 in /usr/local/lib/python3.7/dist-packages (from ipython->ipython-autotime) (5.0.5)\n",
            "Requirement already satisfied: decorator in /usr/local/lib/python3.7/dist-packages (from ipython->ipython-autotime) (4.4.2)\n",
            "Requirement already satisfied: prompt-toolkit<2.0.0,>=1.0.4 in /usr/local/lib/python3.7/dist-packages (from ipython->ipython-autotime) (1.0.18)\n",
            "Requirement already satisfied: simplegeneric>0.8 in /usr/local/lib/python3.7/dist-packages (from ipython->ipython-autotime) (0.8.1)\n",
            "Requirement already satisfied: pygments in /usr/local/lib/python3.7/dist-packages (from ipython->ipython-autotime) (2.6.1)\n",
            "Requirement already satisfied: pexpect; sys_platform != \"win32\" in /usr/local/lib/python3.7/dist-packages (from ipython->ipython-autotime) (4.8.0)\n",
            "Requirement already satisfied: setuptools>=18.5 in /usr/local/lib/python3.7/dist-packages (from ipython->ipython-autotime) (57.0.0)\n",
            "Requirement already satisfied: pickleshare in /usr/local/lib/python3.7/dist-packages (from ipython->ipython-autotime) (0.7.5)\n",
            "Requirement already satisfied: ipython-genutils in /usr/local/lib/python3.7/dist-packages (from traitlets>=4.2->ipython->ipython-autotime) (0.2.0)\n",
            "Requirement already satisfied: wcwidth in /usr/local/lib/python3.7/dist-packages (from prompt-toolkit<2.0.0,>=1.0.4->ipython->ipython-autotime) (0.2.5)\n",
            "Requirement already satisfied: six>=1.9.0 in /usr/local/lib/python3.7/dist-packages (from prompt-toolkit<2.0.0,>=1.0.4->ipython->ipython-autotime) (1.15.0)\n",
            "Requirement already satisfied: ptyprocess>=0.5 in /usr/local/lib/python3.7/dist-packages (from pexpect; sys_platform != \"win32\"->ipython->ipython-autotime) (0.7.0)\n",
            "Installing collected packages: ipython-autotime\n",
            "Successfully installed ipython-autotime-0.3.1\n",
            "time: 138 µs (started: 2021-06-20 13:44:26 +00:00)\n"
          ],
          "name": "stdout"
        }
      ]
    },
    {
      "cell_type": "code",
      "metadata": {
        "id": "TOb6WOpXf8dt",
        "colab": {
          "base_uri": "https://localhost:8080/"
        },
        "outputId": "b95e393f-0f7d-4cdd-ead2-17c0e27f6af7"
      },
      "source": [
        "!mkdir images"
      ],
      "execution_count": null,
      "outputs": [
        {
          "output_type": "stream",
          "text": [
            "time: 112 ms (started: 2021-06-20 13:44:26 +00:00)\n"
          ],
          "name": "stdout"
        }
      ]
    },
    {
      "cell_type": "code",
      "metadata": {
        "id": "Ow1foBKojQE1",
        "colab": {
          "base_uri": "https://localhost:8080/"
        },
        "outputId": "134f0f37-6dc5-43b9-e224-9faa1af78e14"
      },
      "source": [
        "from bing_image_downloader import downloader\n",
        "downloader.download(\"boxing gloves\",limit = 30,output_dir = 'images',adult_filter_off=True)"
      ],
      "execution_count": null,
      "outputs": [
        {
          "output_type": "stream",
          "text": [
            "[%] Downloading Images to /content/images/boxing gloves\n",
            "\n",
            "\n",
            "[!!]Indexing page: 1\n",
            "\n",
            "[%] Indexed 30 Images on Page 1.\n",
            "\n",
            "===============================================\n",
            "\n",
            "[%] Downloading Image #1 from https://www.giri.com.au/wp-content/uploads/2017/05/blue-mexican-boxing-gloves.jpg\n",
            "[%] File Downloaded !\n",
            "\n",
            "[%] Downloading Image #2 from https://www.punchequipmentusa.com/wp-content/uploads/2019/12/matte-black-gold-lips-bling-boxing-gloves-6-1.jpg\n",
            "[%] File Downloaded !\n",
            "\n",
            "[%] Downloading Image #3 from https://bushido.ca/wp-content/uploads/2017/01/DKOS3026_DrakoTrueNorthBoxingGlove_blk.jpg\n",
            "[%] File Downloaded !\n",
            "\n",
            "[%] Downloading Image #4 from https://redfit.com.au/wp-content/uploads/2018/05/urban-cobra-boxing-gloves-silver-blue-3.png\n",
            "[%] File Downloaded !\n",
            "\n",
            "[%] Downloading Image #5 from https://cdn.shopify.com/s/files/1/1529/1871/products/Kai-Youth-Boxing-Gloves-Black_800x.png?v=1501449349\n",
            "[%] File Downloaded !\n",
            "\n",
            "[%] Downloading Image #6 from https://i.ebayimg.com/images/i/142031231292-0-1/s-l1000.jpg\n",
            "[%] File Downloaded !\n",
            "\n",
            "[%] Downloading Image #7 from https://i.pinimg.com/originals/1e/29/21/1e292158b63eccab25f19292c800b3b9.jpg\n",
            "[%] File Downloaded !\n",
            "\n",
            "[%] Downloading Image #8 from https://www.punchequipment.com/wp-content/uploads/2020/12/gold-skull-matte-black-getters-boxing-glove-2020-2.jpg\n",
            "[%] File Downloaded !\n",
            "\n",
            "[%] Downloading Image #9 from https://i.pinimg.com/originals/b5/b1/e5/b5b1e5dfce6c621ef81eddeb46a78793.jpg\n",
            "[%] File Downloaded !\n",
            "\n",
            "[%] Downloading Image #10 from https://www.punchequipment.com/wp-content/uploads/2019/07/gold-skulls-boxing-gloves-1-2020.jpg\n",
            "[%] File Downloaded !\n",
            "\n",
            "[%] Downloading Image #11 from https://i.ebayimg.com/images/i/142096492780-0-1/s-l1000.jpg\n",
            "[%] File Downloaded !\n",
            "\n",
            "[%] Downloading Image #12 from https://www.punchequipment.com/wp-content/uploads/2019/06/punch-mexican-blue-boxing-gloves-12oz.jpg\n",
            "[%] File Downloaded !\n",
            "\n",
            "[%] Downloading Image #13 from https://i.ebayimg.com/images/i/380876848902-0-1/s-l1000.jpg\n",
            "[%] File Downloaded !\n",
            "\n",
            "[%] Downloading Image #14 from https://cdn.shopify.com/s/files/1/0021/8244/7153/products/Boxing-Gloves-Top-Design-PU-Kickboxing-Training-equipment-Fighting-Sandbag-Gloves_b0f24ca9-5f45-4a43-b63b-f10074696982_620x.jpg?v=1578659277\n",
            "[%] File Downloaded !\n",
            "\n",
            "[%] Downloading Image #15 from https://www.giri.com.au/wp-content/uploads/2016/08/punch-red-lace-up-boxing-gloves-2-1.jpg\n",
            "[%] File Downloaded !\n",
            "\n",
            "[%] Downloading Image #16 from https://www.northernmartialarts.com.au/wp-content/uploads/2017/01/boxing-glove-r-ubg.jpg\n",
            "[%] File Downloaded !\n",
            "\n",
            "[%] Downloading Image #17 from https://i.pinimg.com/originals/19/1a/76/191a76e17e9926ebc78652b4ff0b1dad.jpg\n",
            "[%] File Downloaded !\n",
            "\n",
            "[%] Downloading Image #18 from https://www.northernmartialarts.com.au/wp-content/uploads/2020/08/8oz-youth-boxing-gloves.jpg\n",
            "[%] File Downloaded !\n",
            "\n",
            "[%] Downloading Image #19 from https://www.punchequipmentusa.com/wp-content/uploads/2018/09/punch-kids-boxing-glove-black-6oz.jpg\n",
            "[%] File Downloaded !\n",
            "\n",
            "[%] Downloading Image #20 from https://www.punchequipment.com/wp-content/uploads/2019/10/snug-mexican-boxing-glove-green.jpg\n",
            "[%] File Downloaded !\n",
            "\n",
            "[%] Downloading Image #21 from https://i.pinimg.com/originals/5a/d8/dd/5ad8dd3842978b46a9591b7187bda302.png\n",
            "[%] File Downloaded !\n",
            "\n",
            "[%] Downloading Image #22 from https://www.punchequipmentusa.com/wp-content/uploads/2017/11/Black-Boxing-Gloves-Trophy-Getters.png\n",
            "[%] File Downloaded !\n",
            "\n",
            "[%] Downloading Image #23 from https://www.punchequipment.co.nz/wp-content/uploads/2019/08/lifestyle-womens-boxing-gloves-lip-art1.png\n",
            "[%] File Downloaded !\n",
            "\n",
            "[%] Downloading Image #24 from https://i.pinimg.com/originals/03/c7/64/03c764672be7531f0747ae18d46e3b3c.jpg\n",
            "[%] File Downloaded !\n",
            "\n",
            "[%] Downloading Image #25 from https://www.punchequipmentusa.com/wp-content/uploads/2019/12/matte-black-gold-lips-bling-boxing-gloves-7-1.jpg\n",
            "[%] File Downloaded !\n",
            "\n",
            "[%] Downloading Image #26 from https://i.pinimg.com/originals/73/45/82/7345820bd33604a53eb59c77e4730718.jpg\n",
            "[%] File Downloaded !\n",
            "\n",
            "[%] Downloading Image #27 from https://www.punchequipment.com/wp-content/uploads/2019/07/gold-skulls-boxing-gloves-1.jpg\n",
            "[%] File Downloaded !\n",
            "\n",
            "[%] Downloading Image #28 from https://cdn.shopify.com/s/files/1/0026/8088/1218/products/BlackNXTLVLVelcroGloves2_1800x1800.png?v=1595516480\n",
            "[%] File Downloaded !\n",
            "\n",
            "[%] Downloading Image #29 from https://www.punchequipment.com/wp-content/uploads/2019/07/lifestyle-womens-boxing-gloves-lip-art-black.jpg\n",
            "[%] File Downloaded !\n",
            "\n",
            "[%] Downloading Image #30 from https://www.punchequipment.com/wp-content/uploads/2019/06/red-punch-mexican-boxing-gloves-1-2020.jpg\n",
            "[%] File Downloaded !\n",
            "\n",
            "\n",
            "\n",
            "[%] Done. Downloaded 30 images.\n",
            "===============================================\n",
            "\n",
            "Please show your support here\n",
            "https://www.buymeacoffee.com/gurugaurav\n",
            "\n",
            "===============================================\n",
            "\n",
            "time: 25.3 s (started: 2021-06-20 13:44:26 +00:00)\n"
          ],
          "name": "stdout"
        }
      ]
    },
    {
      "cell_type": "code",
      "metadata": {
        "colab": {
          "base_uri": "https://localhost:8080/"
        },
        "id": "IdGXcJtxoMco",
        "outputId": "47843659-eeff-4ea8-ff16-5073434914ad"
      },
      "source": [
        "from bing_image_downloader import downloader\n",
        "downloader.download(\"single shuttlecock images\",limit = 30,output_dir = 'images',adult_filter_off=True)\n"
      ],
      "execution_count": null,
      "outputs": [
        {
          "output_type": "stream",
          "text": [
            "[%] Downloading Images to /content/images/single shuttlecock images\n",
            "\n",
            "\n",
            "[!!]Indexing page: 1\n",
            "\n",
            "[%] Indexed 30 Images on Page 1.\n",
            "\n",
            "===============================================\n",
            "\n",
            "[%] Downloading Image #1 from https://i.ebayimg.com/images/g/qXcAAOSwWzJe4TUq/s-l400.jpg\n",
            "[%] File Downloaded !\n",
            "\n",
            "[%] Downloading Image #2 from https://fitnessmania.com.au/wp-content/uploads/2018/12/Fitness-Mania-decathlon-Badminton-Shuttlecock-BSC700-White.jpg\n",
            "[%] File Downloaded !\n",
            "\n",
            "[%] Downloading Image #3 from https://i.ebayimg.com/00/s/MTYwMFgxNjAw/z/PKEAAOSwUSle48Fs/$_62.JPG?set_id=8800005007\n",
            "[%] File Downloaded !\n",
            "\n",
            "[%] Downloading Image #4 from https://i.ebayimg.com/images/g/X48AAOSwRd5fAta6/s-l640.jpg\n",
            "[%] File Downloaded !\n",
            "\n",
            "[%] Downloading Image #5 from https://i.ebayimg.com/images/g/HnQAAOSwYbJc57W4/s-l640.jpg\n",
            "[%] File Downloaded !\n",
            "\n",
            "[%] Downloading Image #6 from https://images-na.ssl-images-amazon.com/images/I/41C3vPv%2B5OL.jpg\n",
            "[%] File Downloaded !\n",
            "\n",
            "[%] Downloading Image #7 from https://i.ebayimg.com/images/g/Jb0AAOSw5RRe-fAo/s-l640.jpg\n",
            "[%] File Downloaded !\n",
            "\n",
            "[%] Downloading Image #8 from https://i.ebayimg.com/images/g/7ucAAOSwFKVgP8BB/s-l640.jpg\n",
            "[%] File Downloaded !\n",
            "\n",
            "[%] Downloading Image #9 from https://i.ebayimg.com/images/g/YXUAAOSwl-Ndjwhp/s-l640.jpg\n",
            "[%] File Downloaded !\n",
            "\n",
            "[%] Downloading Image #10 from https://n4.sdlcdn.com/imgs/b/w/t/Li-Ning-XP80II-Badminton-Racquet-SDL058467343-3-abb9d.jpg\n",
            "[%] File Downloaded !\n",
            "\n",
            "[%] Downloading Image #11 from https://cdn.sweatband.com/Ashaway_Quill_Gold_400_Feather_Shuttlecock__Medium__25_dozen_124697683661_Quill-Gold-wit_2000x2000_2000x2000.jpg\n",
            "[%] File Downloaded !\n",
            "\n",
            "[%] Downloading Image #12 from https://res.cloudinary.com/teepublic/image/private/s--Z793cCDP--/t_Preview/b_rgb:191919,t_watermark_lock/c_limit,f_auto,h_630,q_90,w_630/v1586704396/production/designs/9057955_0.jpg\n",
            "[%] File Downloaded !\n",
            "\n",
            "[%] Downloading Image #13 from https://i.ebayimg.com/images/g/LWMAAOSw~rBdwtFc/s-l400.jpg\n",
            "[%] File Downloaded !\n",
            "\n",
            "[%] Downloading Image #14 from https://i.ebayimg.com/images/g/7CEAAOSwuUlczTVJ/s-l400.jpg\n",
            "[%] File Downloaded !\n",
            "\n",
            "[%] Downloading Image #15 from https://i.ebayimg.com/images/g/HqsAAOSww-tfs8uP/s-l640.jpg\n",
            "[%] File Downloaded !\n",
            "\n",
            "[%] Downloading Image #16 from https://i.ebayimg.com/images/g/9tgAAOSwDLlfGP8L/s-l400.jpg\n",
            "[%] File Downloaded !\n",
            "\n",
            "[%] Downloading Image #17 from https://i.ebayimg.com/images/g/EP8AAOSwUwRepEOz/s-l300.jpg\n",
            "[%] File Downloaded !\n",
            "\n",
            "[%] Downloading Image #18 from https://www.coursehero.com/doc-asset/bg/65d3f0015015b1f3e1fdd74578c1c22a1e3e5e2c/splits/v9.2/split-0-page-1-html-bg-unsplit.png\n",
            "[%] File Downloaded !\n",
            "\n",
            "[%] Downloading Image #19 from https://i.ebayimg.com/images/g/ezAAAOSwf1ReapyM/s-l400.jpg\n",
            "[%] File Downloaded !\n",
            "\n",
            "[%] Downloading Image #20 from https://i.ebayimg.com/images/g/oGIAAOSwM0dfAKwU/s-l640.jpg\n",
            "[%] File Downloaded !\n",
            "\n",
            "[%] Downloading Image #21 from https://www.siboasiballmachine.com/uploads/202012906/badminton-shooting-robot-siboasi-s402529215218895.jpg\n",
            "[%] File Downloaded !\n",
            "\n",
            "[%] Downloading Image #22 from https://www.siboasiballmachine.com/uploads/202012906/badminton-shooting-robot-siboasi-s402529499124880.jpg\n",
            "[%] File Downloaded !\n",
            "\n",
            "[%] Downloading Image #23 from https://i.ebayimg.com/images/g/dfUAAOSwwpdW4Ux9/s-l400.jpg\n",
            "[%] File Downloaded !\n",
            "\n",
            "[%] Downloading Image #24 from https://www.siboasiballmachine.com/Content/uploads/2020211266/202007231534009540661e2d4d4dd9a154098ee6837ba4.jpg\n",
            "[%] File Downloaded !\n",
            "\n",
            "[%] Downloading Image #25 from https://i.ebayimg.com/images/g/Ln8AAOSwq-BdsX77/s-l400.jpg\n",
            "[%] File Downloaded !\n",
            "\n",
            "[%] Downloading Image #26 from https://www.siboasiballmachine.com/Content/uploads/2020211266/2020072315343104f9d910d81541ac820b2040af16a77c.jpg\n",
            "[%] File Downloaded !\n",
            "\n",
            "[%] Downloading Image #27 from https://nordicgrizzly.com/wp-content/uploads/2019/09/1113875-gal-ng-5.png\n",
            "[%] File Downloaded !\n",
            "\n",
            "[%] Downloading Image #28 from https://i.ebayimg.com/images/g/hwMAAOSwUfVb8k0H/s-l400.jpg\n",
            "[%] File Downloaded !\n",
            "\n",
            "[%] Downloading Image #29 from https://i.ebayimg.com/images/g/ujgAAOSwDD5dkKGR/s-l400.jpg\n",
            "[%] File Downloaded !\n",
            "\n",
            "[%] Downloading Image #30 from https://i.ebayimg.com/images/g/k1QAAOSwxoVfNNZK/s-l640.png\n",
            "[%] File Downloaded !\n",
            "\n",
            "\n",
            "\n",
            "[%] Done. Downloaded 30 images.\n",
            "===============================================\n",
            "\n",
            "Please show your support here\n",
            "https://www.buymeacoffee.com/gurugaurav\n",
            "\n",
            "===============================================\n",
            "\n",
            "time: 7.07 s (started: 2021-06-20 13:44:52 +00:00)\n"
          ],
          "name": "stdout"
        }
      ]
    },
    {
      "cell_type": "code",
      "metadata": {
        "colab": {
          "base_uri": "https://localhost:8080/"
        },
        "id": "st6z0ScJPlj5",
        "outputId": "db6ece65-efc7-4245-cec8-611e15cc9292"
      },
      "source": [
        "from bing_image_downloader import downloader\n",
        "downloader.download(\"baseball bat\",limit = 30,output_dir = 'images',adult_filter_off=True)"
      ],
      "execution_count": null,
      "outputs": [
        {
          "output_type": "stream",
          "text": [
            "[%] Downloading Images to /content/images/baseball bat\n",
            "\n",
            "\n",
            "[!!]Indexing page: 1\n",
            "\n",
            "[%] Indexed 30 Images on Page 1.\n",
            "\n",
            "===============================================\n",
            "\n",
            "[%] Downloading Image #1 from https://n1.sdlcdn.com/imgs/g/i/x/Genuine-Quality-Wooden-Baseball-Bat-SDL526576581-1-53c15.jpeg\n",
            "[%] File Downloaded !\n",
            "\n",
            "[%] Downloading Image #2 from https://truebaseball.net/wp-content/uploads/2019/08/71pn9me6PWL._AC_SL1500_.jpg\n",
            "[%] File Downloaded !\n",
            "\n",
            "[%] Downloading Image #3 from https://www.baseballmonkey.com/media/catalog/product/cache/b32e7142753984368b8a4b1edc19a338/t/r/true-baseball-bat-ts-usa-2020-10-inset2.jpg\n",
            "[%] File Downloaded !\n",
            "\n",
            "[%] Downloading Image #4 from https://cdn.shopify.com/s/files/1/1379/0187/products/005_271_TDS-UT-20-T1X-10_USSSA_DROP10_-_ANGLE6_6913654e-3ffe-43df-9c1e-37d705f8be85_2048x.png?v=1583344333\n",
            "[%] File Downloaded !\n",
            "\n",
            "[%] Downloading Image #5 from https://cdn11.bigcommerce.com/s-cehlg7yhg/images/stencil/1280x1280/products/1786/5564/008_243_TDS-UT-20-T2X-10_USSSA_DROP10_-_ANGLE8_e2964e2e-5b8b-4f40-a5c5-d6795e398546__83041.1604936770.png?c=1\n",
            "[%] File Downloaded !\n",
            "\n",
            "[%] Downloading Image #6 from https://www.baseballmonkey.com/media/catalog/product/cache/b32e7142753984368b8a4b1edc19a338/t/r/true-baseball-bat-tssx-usssa-2020-10-inset7.jpg\n",
            "[%] File Downloaded !\n",
            "\n",
            "[%] Downloading Image #7 from https://dac8r2vkxfv8c.cloudfront.net/images/products/4041-12-19-true-t--x--10-usssa-baseball-bat--ut-tssx-20-10-32234-8_l.jpg\n",
            "[%] File Downloaded !\n",
            "\n",
            "[%] Downloading Image #8 from https://cdn.shopify.com/s/files/1/1379/0187/products/005_271_TDS-UT-20-T1X-10_USSSA_DROP10_-_ANGLE7_34c35ff7-b76e-4538-8f2b-f39081cb7d1a_2048x.png?v=1583344273\n",
            "[%] File Downloaded !\n",
            "\n",
            "[%] Downloading Image #9 from https://cdn11.bigcommerce.com/s-cehlg7yhg/images/stencil/1280x1280/products/1787/5574/005_271_TDS-UT-20-T1X-10_USSSA_DROP10_-_ANGLE4_88dfefd5-e552-41e2-b32d-2d7bf41fe787__28686.1604936610.png?c=1\n",
            "[%] File Downloaded !\n",
            "\n",
            "[%] Downloading Image #10 from https://www.baseballmonkey.com/media/catalog/product/cache/67e73c3e16ead9e1b9befb018a874cfb/t/r/true-baseball-bat-t2-usa-2020-8-inset2.jpg\n",
            "[%] File Downloaded !\n",
            "\n",
            "[%] Downloading Image #11 from https://cdn11.bigcommerce.com/s-cehlg7yhg/images/stencil/960w/products/1785/5562/008_243_TDS-UT-20-T2X-10_USSSA_DROP10_-_ANGLE7_db94ccda-54e4-4297-95b0-37fae4883297__28306.1604936857.png?c=1\n",
            "[%] File Downloaded !\n",
            "\n",
            "[%] Downloading Image #12 from https://www.baseballmonkey.com/media/catalog/product/cache/b32e7142753984368b8a4b1edc19a338/t/r/true-baseball-bat-t1x-usssa-2020-5-inset7.jpg\n",
            "[%] File Downloaded !\n",
            "\n",
            "[%] Downloading Image #13 from https://www.baseballmonkey.com/media/catalog/product/cache/67e73c3e16ead9e1b9befb018a874cfb/t/r/true-baseball-bat-t1-usa-2020-8-inset7.jpg\n",
            "[%] File Downloaded !\n",
            "\n",
            "[%] Downloading Image #14 from https://dac8r2vkxfv8c.cloudfront.net/images/products/f1c2-10-19-32225_l.jpg\n",
            "[%] File Downloaded !\n",
            "\n",
            "[%] Downloading Image #15 from https://dac8r2vkxfv8c.cloudfront.net/images/products/57b6-01-20-true-t---10-usa-baseball-bat--yb-ts-20-10-32224-2_m.jpg\n",
            "[%] File Downloaded !\n",
            "\n",
            "[%] Downloading Image #16 from https://dac8r2vkxfv8c.cloudfront.net/images/products/5d6b-12-19-true-t--x--10-usssa-baseball-bat--ut-tssx-20-10-32234-2_l.jpg\n",
            "[%] File Downloaded !\n",
            "\n",
            "[%] Downloading Image #17 from https://cdn.shopify.com/s/files/1/1379/0187/products/005_271_TDS-UT-20-T1X-10_USSSA_DROP10_-_ANGLE3_89cb1b25-0add-4983-9b22-1f61c9e9b9b9_2048x.png?v=1583344297\n",
            "[%] File Downloaded !\n",
            "\n",
            "[%] Downloading Image #18 from https://dac8r2vkxfv8c.cloudfront.net/images/products/12aa-12-19-true-t-x--10-usssa-baseball-bat--ut-tsx-20-10-32233-8_l.jpg\n",
            "[%] File Downloaded !\n",
            "\n",
            "[%] Downloading Image #19 from https://dac8r2vkxfv8c.cloudfront.net/images/products/403b-10-19-32227_l.jpg\n",
            "[%] File Downloaded !\n",
            "\n",
            "[%] Downloading Image #20 from https://dac8r2vkxfv8c.cloudfront.net/images/products/6238-10-19-32227-10_l.jpg\n",
            "[%] File Downloaded !\n",
            "\n",
            "[%] Downloading Image #21 from https://dac8r2vkxfv8c.cloudfront.net/images/products/ce7e-10-19-32225-10_l.jpg\n",
            "[%] File Downloaded !\n",
            "\n",
            "[%] Downloading Image #22 from https://dac8r2vkxfv8c.cloudfront.net/images/products/54f5-10-19-32222-1_l.jpg\n",
            "[%] File Downloaded !\n",
            "\n",
            "[%] Downloading Image #23 from https://dac8r2vkxfv8c.cloudfront.net/images/products/55c3-10-19-32225-4_l.jpg\n",
            "[%] File Downloaded !\n",
            "\n",
            "[%] Downloading Image #24 from https://cdn.shopify.com/s/files/1/1379/0187/products/true-2020-t1x-2-3-4-usssa-bat-10-angle5-vert_32a8af36-2757-4c4c-8059-62e80bc7afad_2048x.png?v=1583330304\n",
            "[%] File Downloaded !\n",
            "\n",
            "[%] Downloading Image #25 from https://dac8r2vkxfv8c.cloudfront.net/images/products/9457-10-19-32230-8_l.jpg\n",
            "[%] File Downloaded !\n",
            "\n",
            "[%] Downloading Image #26 from https://dac8r2vkxfv8c.cloudfront.net/images/products/3edb-10-19-32221_l.jpg\n",
            "[%] File Downloaded !\n",
            "\n",
            "[%] Downloading Image #27 from https://cdn.shopify.com/s/files/1/1379/0187/products/005_271_TDS-UT-20-T1X-10_USSSA_DROP10_-_ANGLE5_1fbd13d1-7b21-4acf-8793-9ef2cf55c79e_2048x.png?v=1583330327\n",
            "[%] File Downloaded !\n",
            "\n",
            "[%] Downloading Image #28 from https://dac8r2vkxfv8c.cloudfront.net/images/products/4661-06-18-mz10-mza271_l.jpg\n",
            "[%] File Downloaded !\n",
            "\n",
            "[%] Downloading Image #29 from https://true-rebel.ch/media/image/product/12347/lg/sixblox-baseball-bat-1312-aluminium-28-zoll_1~2.jpg\n",
            "[%] File Downloaded !\n",
            "\n",
            "[%] Downloading Image #30 from https://true-rebel-store.com/media/image/product/21835/lg/sixblox-baseball-bat-1312-aluminium-28-zoll.jpg\n",
            "[%] File Downloaded !\n",
            "\n",
            "\n",
            "\n",
            "[%] Done. Downloaded 30 images.\n",
            "===============================================\n",
            "\n",
            "Please show your support here\n",
            "https://www.buymeacoffee.com/gurugaurav\n",
            "\n",
            "===============================================\n",
            "\n",
            "time: 18 s (started: 2021-06-20 13:44:59 +00:00)\n"
          ],
          "name": "stdout"
        }
      ]
    },
    {
      "cell_type": "markdown",
      "metadata": {
        "id": "v9Nvm3w4v44v"
      },
      "source": [
        "## Preprocessing"
      ]
    },
    {
      "cell_type": "code",
      "metadata": {
        "id": "z--BRwvVmd2F",
        "colab": {
          "base_uri": "https://localhost:8080/"
        },
        "outputId": "c769d118-a988-40e1-d6e2-46e52d13479f"
      },
      "source": [
        "import os\n",
        "import matplotlib.pyplot as plt\n",
        "import numpy as np\n",
        "from skimage.io import imread\n",
        "from skimage.transform import resize\n",
        "\n",
        "images = []\n",
        "target = []\n",
        "flat_data = []\n",
        "\n",
        "DATADIR ='/content/images'\n",
        "CATEGORIES = ['boxing gloves','single shuttlecock images','baseball bat']\n",
        "\n",
        "\n",
        "for category in CATEGORIES:\n",
        "  class_num = CATEGORIES.index(category)   \n",
        "  path = os.path.join(DATADIR,category)    #create path to use images\n",
        "  \n",
        "  for img in os.listdir(path):\n",
        "    img_array = imread(os.path.join(path,img))\n",
        "    img_resized = resize(img_array,(150,150,3))  #Normalizes the value from 0 to 1\n",
        "    flat_data.append(img_resized.flatten())\n",
        "    images.append(img_resized)\n",
        "    target.append(class_num)\n",
        "\n",
        "flat_data = np.array(flat_data)\n",
        "target = np.array(target)\n",
        "images = np.array(images)    "
      ],
      "execution_count": null,
      "outputs": [
        {
          "output_type": "stream",
          "text": [
            "time: 21.5 s (started: 2021-06-20 13:45:17 +00:00)\n"
          ],
          "name": "stdout"
        }
      ]
    },
    {
      "cell_type": "code",
      "metadata": {
        "id": "5ReG0lqSjQKL",
        "colab": {
          "base_uri": "https://localhost:8080/"
        },
        "outputId": "a1c0b09b-7e04-420c-9073-8bed00259ad7"
      },
      "source": [
        "target"
      ],
      "execution_count": null,
      "outputs": [
        {
          "output_type": "execute_result",
          "data": {
            "text/plain": [
              "array([0, 0, 0, 0, 0, 0, 0, 0, 0, 0, 0, 0, 0, 0, 0, 0, 0, 0, 0, 0, 0, 0,\n",
              "       0, 0, 0, 0, 0, 0, 0, 0, 1, 1, 1, 1, 1, 1, 1, 1, 1, 1, 1, 1, 1, 1,\n",
              "       1, 1, 1, 1, 1, 1, 1, 1, 1, 1, 1, 1, 1, 1, 1, 1, 2, 2, 2, 2, 2, 2,\n",
              "       2, 2, 2, 2, 2, 2, 2, 2, 2, 2, 2, 2, 2, 2, 2, 2, 2, 2, 2, 2, 2, 2,\n",
              "       2, 2])"
            ]
          },
          "metadata": {
            "tags": []
          },
          "execution_count": 8
        },
        {
          "output_type": "stream",
          "text": [
            "time: 5.13 ms (started: 2021-06-20 13:45:38 +00:00)\n"
          ],
          "name": "stdout"
        }
      ]
    },
    {
      "cell_type": "code",
      "metadata": {
        "id": "NHQoc38N2ewF",
        "colab": {
          "base_uri": "https://localhost:8080/"
        },
        "outputId": "d27ecefa-87d5-4f73-d24b-d4d0ba401320"
      },
      "source": [
        "unique,count = np.unique(target,return_counts=True)"
      ],
      "execution_count": null,
      "outputs": [
        {
          "output_type": "stream",
          "text": [
            "time: 1.7 ms (started: 2021-06-20 13:45:38 +00:00)\n"
          ],
          "name": "stdout"
        }
      ]
    },
    {
      "cell_type": "code",
      "metadata": {
        "id": "wqulwJL8TyfW",
        "colab": {
          "base_uri": "https://localhost:8080/"
        },
        "outputId": "d5b5ba0c-30d4-44a2-f84c-46f8f30d51dd"
      },
      "source": [
        "from sklearn.model_selection import train_test_split\n",
        "x_train,x_test,y_train,y_test = train_test_split(flat_data,target,test_size=0.3,random_state=109)"
      ],
      "execution_count": null,
      "outputs": [
        {
          "output_type": "stream",
          "text": [
            "time: 158 ms (started: 2021-06-20 13:45:38 +00:00)\n"
          ],
          "name": "stdout"
        }
      ]
    },
    {
      "cell_type": "markdown",
      "metadata": {
        "id": "q0H4-Cm5wI5X"
      },
      "source": [
        "## Hyperparameter Tunning using GridSearchCV"
      ]
    },
    {
      "cell_type": "code",
      "metadata": {
        "colab": {
          "base_uri": "https://localhost:8080/",
          "height": 158
        },
        "id": "lNcqG29cYmEt",
        "outputId": "c7155d91-9faa-4831-a945-395db6e9374f"
      },
      "source": [
        "from sklearn import svm\n",
        "from sklearn.model_selection import GridSearchCV\n",
        "from sklearn.ensemble import RandomForestClassifier\n",
        "from sklearn.linear_model import LogisticRegression\n",
        "from sklearn.cluster import KMeans\n",
        "import pandas as pd\n",
        "\n",
        "model_params = {\n",
        "    'svm':{\n",
        "        'model': svm.SVC(gamma='scale'),\n",
        "        'params': {\n",
        "            'C': [1,10,100,1000],\n",
        "            'kernel': ['linear','rbf']\n",
        "            \n",
        "        }\n",
        "    },\n",
        "    'random_forest':{\n",
        "        'model': RandomForestClassifier(),\n",
        "        'params': {\n",
        "            'n_estimators':[1,2,10,100]\n",
        "            \n",
        "        }\n",
        "    },\n",
        "    'logistic_regression': {\n",
        "        'model': LogisticRegression(solver='liblinear',multi_class='auto'),\n",
        "        'params': {\n",
        "            'C': [1,5,10]\n",
        "        }\n",
        "    }\n",
        "   \n",
        "}\n",
        "\n",
        "\n",
        "scores=[]\n",
        "\n",
        "for model_name,mp in model_params.items():\n",
        "    clf = GridSearchCV(mp['model'],mp['params'],return_train_score=False)\n",
        "    clf.fit(x_train,y_train)\n",
        "    scores.append({\n",
        "        'model': model_name,\n",
        "        'best_score': clf.best_score_,\n",
        "        'best_params': clf.best_params_\n",
        "    })\n",
        "    \n",
        "df=pd.DataFrame(scores,columns=['model','best_score','best_params']) \n",
        "df"
      ],
      "execution_count": null,
      "outputs": [
        {
          "output_type": "execute_result",
          "data": {
            "text/html": [
              "<div>\n",
              "<style scoped>\n",
              "    .dataframe tbody tr th:only-of-type {\n",
              "        vertical-align: middle;\n",
              "    }\n",
              "\n",
              "    .dataframe tbody tr th {\n",
              "        vertical-align: top;\n",
              "    }\n",
              "\n",
              "    .dataframe thead th {\n",
              "        text-align: right;\n",
              "    }\n",
              "</style>\n",
              "<table border=\"1\" class=\"dataframe\">\n",
              "  <thead>\n",
              "    <tr style=\"text-align: right;\">\n",
              "      <th></th>\n",
              "      <th>model</th>\n",
              "      <th>best_score</th>\n",
              "      <th>best_params</th>\n",
              "    </tr>\n",
              "  </thead>\n",
              "  <tbody>\n",
              "    <tr>\n",
              "      <th>0</th>\n",
              "      <td>svm</td>\n",
              "      <td>0.701282</td>\n",
              "      <td>{'C': 100, 'kernel': 'rbf'}</td>\n",
              "    </tr>\n",
              "    <tr>\n",
              "      <th>1</th>\n",
              "      <td>random_forest</td>\n",
              "      <td>0.698718</td>\n",
              "      <td>{'n_estimators': 100}</td>\n",
              "    </tr>\n",
              "    <tr>\n",
              "      <th>2</th>\n",
              "      <td>logistic_regression</td>\n",
              "      <td>0.682051</td>\n",
              "      <td>{'C': 1}</td>\n",
              "    </tr>\n",
              "  </tbody>\n",
              "</table>\n",
              "</div>"
            ],
            "text/plain": [
              "                 model  best_score                  best_params\n",
              "0                  svm    0.701282  {'C': 100, 'kernel': 'rbf'}\n",
              "1        random_forest    0.698718        {'n_estimators': 100}\n",
              "2  logistic_regression    0.682051                     {'C': 1}"
            ]
          },
          "metadata": {
            "tags": []
          },
          "execution_count": 11
        },
        {
          "output_type": "stream",
          "text": [
            "time: 58.7 s (started: 2021-06-20 13:45:38 +00:00)\n"
          ],
          "name": "stdout"
        }
      ]
    },
    {
      "cell_type": "code",
      "metadata": {
        "colab": {
          "base_uri": "https://localhost:8080/"
        },
        "id": "tiKnn5LFZ-wq",
        "outputId": "fdec7d2b-f913-4f95-8115-0fc24add049d"
      },
      "source": [
        "y_pred = clf.predict(x_test)\n",
        "y_pred"
      ],
      "execution_count": null,
      "outputs": [
        {
          "output_type": "execute_result",
          "data": {
            "text/plain": [
              "array([1, 1, 1, 2, 2, 1, 0, 1, 1, 0, 1, 0, 2, 2, 2, 2, 2, 1, 0, 0, 2, 1,\n",
              "       2, 0, 1, 0, 1])"
            ]
          },
          "metadata": {
            "tags": []
          },
          "execution_count": 12
        },
        {
          "output_type": "stream",
          "text": [
            "time: 21.4 ms (started: 2021-06-20 13:46:37 +00:00)\n"
          ],
          "name": "stdout"
        }
      ]
    },
    {
      "cell_type": "code",
      "metadata": {
        "colab": {
          "base_uri": "https://localhost:8080/"
        },
        "id": "NzwIitUmaHGX",
        "outputId": "749ddae1-d06e-4e18-da83-c033b3f68230"
      },
      "source": [
        "y_test"
      ],
      "execution_count": null,
      "outputs": [
        {
          "output_type": "execute_result",
          "data": {
            "text/plain": [
              "array([1, 0, 1, 2, 2, 1, 0, 1, 1, 0, 1, 0, 1, 2, 2, 1, 2, 1, 0, 1, 2, 2,\n",
              "       2, 0, 0, 0, 1])"
            ]
          },
          "metadata": {
            "tags": []
          },
          "execution_count": 13
        },
        {
          "output_type": "stream",
          "text": [
            "time: 3.59 ms (started: 2021-06-20 13:46:37 +00:00)\n"
          ],
          "name": "stdout"
        }
      ]
    },
    {
      "cell_type": "markdown",
      "metadata": {
        "id": "hpRph2LMwPm3"
      },
      "source": [
        "## Accuracy and Confusion Matrix"
      ]
    },
    {
      "cell_type": "code",
      "metadata": {
        "colab": {
          "base_uri": "https://localhost:8080/"
        },
        "id": "iY8X_Pa2aRdU",
        "outputId": "aab8d02d-f402-436a-bd03-9a50a806f253"
      },
      "source": [
        "from sklearn.metrics import accuracy_score,confusion_matrix,classification_report\n",
        "accuracy_score(y_pred,y_test)"
      ],
      "execution_count": null,
      "outputs": [
        {
          "output_type": "execute_result",
          "data": {
            "text/plain": [
              "0.7777777777777778"
            ]
          },
          "metadata": {
            "tags": []
          },
          "execution_count": 14
        },
        {
          "output_type": "stream",
          "text": [
            "time: 10.9 ms (started: 2021-06-20 13:46:37 +00:00)\n"
          ],
          "name": "stdout"
        }
      ]
    },
    {
      "cell_type": "code",
      "metadata": {
        "colab": {
          "base_uri": "https://localhost:8080/",
          "height": 372
        },
        "id": "bFHqag3v0h2c",
        "outputId": "01b6e9c4-c844-4c8c-cfdb-88216c0cb51d"
      },
      "source": [
        "import seaborn as sn\n",
        "cm = confusion_matrix(y_pred,y_test)\n",
        "plt.figure(figsize = (5,5))\n",
        "sn.heatmap(cm, annot=True, fmt='d')\n",
        "plt.xlabel('Predicted')\n",
        "plt.ylabel('Truth')"
      ],
      "execution_count": null,
      "outputs": [
        {
          "output_type": "execute_result",
          "data": {
            "text/plain": [
              "Text(24.0, 0.5, 'Truth')"
            ]
          },
          "metadata": {
            "tags": []
          },
          "execution_count": 15
        },
        {
          "output_type": "display_data",
          "data": {
            "image/png": "[encoded data removed]",
            "text/plain": [
              "<Figure size 360x360 with 2 Axes>"
            ]
          },
          "metadata": {
            "tags": [],
            "needs_background": "light"
          }
        },
        {
          "output_type": "stream",
          "text": [
            "time: 349 ms (started: 2021-06-20 13:46:37 +00:00)\n"
          ],
          "name": "stdout"
        }
      ]
    },
    {
      "cell_type": "code",
      "metadata": {
        "colab": {
          "base_uri": "https://localhost:8080/"
        },
        "id": "NyCLTFpiP1Hp",
        "outputId": "a49606a1-5f41-4f25-b32b-a54257ddbe34"
      },
      "source": [
        "print(classification_report(y_pred,y_test))"
      ],
      "execution_count": null,
      "outputs": [
        {
          "output_type": "stream",
          "text": [
            "              precision    recall  f1-score   support\n",
            "\n",
            "           0       0.75      0.86      0.80         7\n",
            "           1       0.73      0.73      0.73        11\n",
            "           2       0.88      0.78      0.82         9\n",
            "\n",
            "    accuracy                           0.78        27\n",
            "   macro avg       0.78      0.79      0.78        27\n",
            "weighted avg       0.78      0.78      0.78        27\n",
            "\n",
            "time: 7.13 ms (started: 2021-06-20 13:46:37 +00:00)\n"
          ],
          "name": "stdout"
        }
      ]
    },
    {
      "cell_type": "markdown",
      "metadata": {
        "id": "0MsOoJOMwXxq"
      },
      "source": [
        "## Prediction for new Image"
      ]
    },
    {
      "cell_type": "code",
      "metadata": {
        "id": "ArIRHw37r4Ko",
        "colab": {
          "base_uri": "https://localhost:8080/",
          "height": 336
        },
        "outputId": "7c6365c8-a410-4dcf-9ff8-a2c1dbc20954"
      },
      "source": [
        "flat_data = []\n",
        "url = input('Enter Your URL')\n",
        "img = imread(url)\n",
        "img_resized = resize(img,(150,150,3))\n",
        "flat_data.append(img_resized.flatten())\n",
        "flat_data = np.array(flat_data)\n",
        "print(img.shape)\n",
        "plt.imshow(img_resized)\n",
        "y_out = clf.predict(flat_data)\n",
        "y_out = CATEGORIES[y_out[0]]\n",
        "print(f'PREDICT OUTPUT:{y_out}')\n",
        "# Enter your URL -'https://4.imimg.com/data4/GU/JQ/MY-34593403/baseball-bat-png-clipart-picture-png-m-2-500x500.png'"
      ],
      "execution_count": null,
      "outputs": [
        {
          "output_type": "stream",
          "text": [
            "Enter Your URLhttps://4.imimg.com/data4/GU/JQ/MY-34593403/baseball-bat-png-clipart-picture-png-m-2-500x500.png\n",
            "(489, 500, 4)\n",
            "PREDICT OUTPUT:baseball bat\n"
          ],
          "name": "stdout"
        },
        {
          "output_type": "display_data",
          "data": {
            "image/png": "[encoded data removed]",
            "text/plain": [
              "<Figure size 432x288 with 1 Axes>"
            ]
          },
          "metadata": {
            "tags": [],
            "needs_background": "light"
          }
        },
        {
          "output_type": "stream",
          "text": [
            "time: 15.4 s (started: 2021-06-20 13:46:37 +00:00)\n"
          ],
          "name": "stdout"
        }
      ]
    }
  ]
}